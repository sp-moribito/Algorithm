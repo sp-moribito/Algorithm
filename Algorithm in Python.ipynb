{
 "cells": [
  {
   "cell_type": "code",
   "execution_count": 1,
   "metadata": {},
   "outputs": [
    {
     "name": "stdout",
     "output_type": "stream",
     "text": [
      "[10, 11, 12, 13, 14]\n"
     ]
    }
   ],
   "source": [
    "def SSort(arr):\n",
    "    for i in range(len(arr)):\n",
    "        indexMin=i\n",
    "        for j in range(i+1, len(arr)):\n",
    "            if arr[j]<arr[indexMin]:\n",
    "                indexMin=j\n",
    "        arr[i], arr[indexMin]=arr[indexMin],arr[i]\n",
    "    return arr\n",
    "            \n",
    "array=[12,13,11,14,10]\n",
    "print(SSort(array))"
   ]
  },
  {
   "cell_type": "code",
   "execution_count": 2,
   "metadata": {},
   "outputs": [],
   "source": [
    "def change(x,i,j):\n",
    "    x[i],x[j]=x[j],x[i]\n",
    "    \n",
    "def Select(x,l,r):\n",
    "    select_val=x[l]\n",
    "    select_idx=1\n",
    "    while l<=r:\n",
    "        while l<=r and x[i]<=select_val:\n",
    "            l+=l\n",
    "        while l<=r and x[r]>=select_val:\n",
    "            r-=1\n",
    "        if l<=r:\n",
    "            chage(x,l,r)\n",
    "            l=+1\n",
    "            r-=1\n",
    "\n",
    "    change(x,select_idx,r)\n",
    "    return r"
   ]
  },
  {
   "cell_type": "code",
   "execution_count": 3,
   "metadata": {},
   "outputs": [
    {
     "name": "stdout",
     "output_type": "stream",
     "text": [
      "[1, 8, 9, 12, 25, 31, 32, 98, 102]\n"
     ]
    }
   ],
   "source": [
    "def Quick_sort(a):\n",
    "    n=len(a)\n",
    "    if n<=1:\n",
    "        return a\n",
    "    pivot=a[-1]\n",
    "    g_left=[]\n",
    "    g_right=[]\n",
    "    for i in range(0,n-1):\n",
    "        if a[i]<=pivot:\n",
    "            g_left.append(a[i])\n",
    "        else:\n",
    "            g_right.append(a[i])\n",
    "    return Quick_sort(g_left)+[pivot]+Quick_sort(g_right)\n",
    "\n",
    "d=[8,12,1,9,102,25,32,98,31]\n",
    "print(Quick_sort(d))"
   ]
  },
  {
   "cell_type": "code",
   "execution_count": 4,
   "metadata": {},
   "outputs": [
    {
     "data": {
      "text/plain": [
       "[1, 2, 3, 4, 5]"
      ]
     },
     "execution_count": 4,
     "metadata": {},
     "output_type": "execute_result"
    }
   ],
   "source": [
    "def bsort(nums):\n",
    "    for i in range(len(nums)-1):\n",
    "        for j in range(len(nums)-1-i):\n",
    "            if nums[j]>nums[j+1]:\n",
    "                nums[j],nums[j+1]=nums[j+1],nums[j]\n",
    "    return nums\n",
    "        \n",
    "bsort([5,4,1,2,3])"
   ]
  },
  {
   "cell_type": "code",
   "execution_count": null,
   "metadata": {},
   "outputs": [],
   "source": []
  }
 ],
 "metadata": {
  "kernelspec": {
   "display_name": "Python 3",
   "language": "python",
   "name": "python3"
  },
  "language_info": {
   "codemirror_mode": {
    "name": "ipython",
    "version": 3
   },
   "file_extension": ".py",
   "mimetype": "text/x-python",
   "name": "python",
   "nbconvert_exporter": "python",
   "pygments_lexer": "ipython3",
   "version": "3.8.5"
  }
 },
 "nbformat": 4,
 "nbformat_minor": 4
}
